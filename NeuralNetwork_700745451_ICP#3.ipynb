{
 "cells": [
  {
   "cell_type": "code",
   "execution_count": 131,
   "id": "2ab375f0",
   "metadata": {},
   "outputs": [
    {
     "name": "stdout",
     "output_type": "stream",
     "text": [
      "Total Number of Employees: 4\n",
      "Average Salary of the Employees: 2775.0\n",
      "\n",
      "Details of Employee, Jackson Mcguire :\n",
      "\tNumber of Family Members: 3\n",
      "\tSalary per month: 3000\n",
      "\tDepartment: Biology\n",
      "\n",
      "Details of Employee, Mandy Williams :\n",
      "\tNumber of Family Members: 4\n",
      "\tSalary per month: 2500\n",
      "\tDepartment: Economis\n",
      "\n",
      "Details of Employee, Kathy Coffman :\n",
      "\tNumber of Family Members: 2\n",
      "\tSalary per month: 2700\n",
      "\tDepartment: Geography\n",
      "\n",
      "Details of Employee, Crystal Jonas :\n",
      "\tNumber of Family Members: 3\n",
      "\tSalary per month: 2900\n",
      "\tDepartment: Mathematics\n"
     ]
    }
   ],
   "source": [
    "#create a class Employee\n",
    "class Employee:\n",
    "    count = 0\n",
    "    totalSalary = 0\n",
    "    def __init__(self, name, family, salary, department):\n",
    "        self.name = name\n",
    "        self.family = family\n",
    "        self.salary = salary\n",
    "        self.department = department\n",
    "        Employee.count += 1 #to track the total count of employees\n",
    "        Employee.totalSalary += self.salary #to add the salary which is to be used to calculate average income\n",
    "\n",
    "    #function to calcualte the average income\n",
    "    def averageSalary(self):\n",
    "        average = Employee.totalSalary/Employee.count\n",
    "        return average\n",
    "    \n",
    "    #funciton to display Employee details\n",
    "    def displayEmpDetials(self):\n",
    "        print(\"\\nDetails of Employee,\",self.name,\":\")\n",
    "        print(\"\\tNumber of Family Members:\",self.family)\n",
    "        print(\"\\tSalary per month:\", self.salary)\n",
    "        print(\"\\tDepartment:\",self.department)\n",
    "    \n",
    "#create a child class inheriting properties from Employee class\n",
    "class FulltimeEmployee(Employee):\n",
    "    pass\n",
    "\n",
    "#create objects of Employee Class and FulltimeEmployee class\n",
    "e1 = Employee(\"Jackson Mcguire\", 3, 3000, \"Biology\")\n",
    "e2 = Employee(\"Mandy Williams\", 4, 2500, \"Economis\")\n",
    "ft1 = FulltimeEmployee(\"Kathy Coffman\", 2, 2700, \"Geography\")\n",
    "ft2 = FulltimeEmployee(\"Crystal Jonas\", 3, 2900, \"Mathematics\")\n",
    "\n",
    "#call the member funcitons using class instances\n",
    "print(\"Total Number of Employees:\",e1.count)\n",
    "print(\"Average Salary of the Employees:\",e1.averageSalary())\n",
    "e1.displayEmpDetials()\n",
    "e2.displayEmpDetials()\n",
    "ft1.displayEmpDetials()\n",
    "ft2.displayEmpDetials()"
   ]
  },
  {
   "cell_type": "code",
   "execution_count": 116,
   "id": "5c42a7f5",
   "metadata": {},
   "outputs": [
    {
     "name": "stdout",
     "output_type": "stream",
     "text": [
      "Randon vector of size 20: [11.97397962  4.45196162 14.42001024  2.14108671  7.95124073  8.838523\n",
      "  6.34744566 16.83257405 14.00057275  6.68882835 10.91661392 15.65931403\n",
      "  2.99796634 16.93739802  1.61722511 15.38433898 11.72980989  9.0893499\n",
      " 14.10845714 15.50902342]\n",
      "\n",
      "After reshaping into Array of dimension 4 X 5 \n",
      " [[11.97397962  4.45196162 14.42001024  2.14108671  7.95124073]\n",
      " [ 8.838523    6.34744566 16.83257405 14.00057275  6.68882835]\n",
      " [10.91661392 15.65931403  2.99796634 16.93739802  1.61722511]\n",
      " [15.38433898 11.72980989  9.0893499  14.10845714 15.50902342]]\n",
      "\n",
      "Maximum Values in each row:\n",
      " [[14.42001024]\n",
      " [16.83257405]\n",
      " [16.93739802]\n",
      " [15.50902342]]\n",
      "\n",
      "Modified Array:\n",
      " [[19.26092178 11.9448386   0.          8.83602259  6.55465903]\n",
      " [16.0560136   1.27791689  0.         11.36633742 17.88928545]\n",
      " [16.3231785  17.88752262  9.04336703  0.          1.70819003]\n",
      " [16.19101628  9.23782085  7.95472002  9.75235438  0.        ]]\n"
     ]
    }
   ],
   "source": [
    "import numpy as np\n",
    "\n",
    "randVector = np.random.uniform(1.0,20.0,20) #random vector of size 20 with float values from 1.0 to 20.0\n",
    "print(\"Randon vector of size 20:\",randVector)\n",
    "\n",
    "reshapedArr = randVector.reshape(4,5) #reshape into array of dimesion 4 X 5\n",
    "print(\"\\nAfter reshaping into Array of dimension 4 X 5 \\n\", reshapedArr)\n",
    "print(\"\\nMaximum Values in each row:\\n\", reshapedArr.max(axis=1).reshape(-1,1)) #print the max values from each row\n",
    "\n",
    "#replace max values in each row by zero\n",
    "modifiedArr = np.where(reshapedArr == np.amax(reshapedArr, axis=1).reshape(-1, 1), 0, x)\n",
    "print(\"\\nModified Array:\\n\",modifiedArr)"
   ]
  }
 ],
 "metadata": {
  "kernelspec": {
   "display_name": "Python 3 (ipykernel)",
   "language": "python",
   "name": "python3"
  },
  "language_info": {
   "codemirror_mode": {
    "name": "ipython",
    "version": 3
   },
   "file_extension": ".py",
   "mimetype": "text/x-python",
   "name": "python",
   "nbconvert_exporter": "python",
   "pygments_lexer": "ipython3",
   "version": "3.9.13"
  }
 },
 "nbformat": 4,
 "nbformat_minor": 5
}
